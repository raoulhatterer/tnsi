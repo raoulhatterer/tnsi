{
 "cells": [
  {
   "cell_type": "markdown",
   "metadata": {},
   "source": [
    "# Exercices de POO"
   ]
  },
  {
   "cell_type": "markdown",
   "metadata": {},
   "source": [
    "## Exercice 1\n",
    "1. Écrire une classe ```Eleve``` qui contiendra les attributs ```nom```, ```classe``` et ```note```.\n",
    "2. Instancier trois élèves de cette classe.\n",
    "3. Écrire une fonction ```compare(eleve1, eleve2)``` qui renvoie le nom de l'élève ayant la meilleure note.\n",
    "\n",
    "Exemple:"
   ]
  },
  {
   "cell_type": "code",
   "execution_count": null,
   "metadata": {},
   "outputs": [],
   "source": [
    ">>> unPaquet = PaquetDeCarte()\n",
    ">>> unPaquet.remplir()\n",
    ">>> uneCarte = unPaquet.getCarteAt(20)\n",
    ">>> print(uneCarte.getNom() + \" de \" + uneCarte.getCouleur())\n",
    "8 de coeur\n"
   ]
  },
  {
   "cell_type": "markdown",
   "metadata": {},
   "source": [
    "## Exercice 2\n",
    "Écrire une classe ```TriangleRect``` qui contiendra les attributs ```cote1```, ```cote2``` et ```hypothenuse```.\n",
    "La méthode constructeur ne prendra en paramètres que ```cote1``` et ```cote2```, l'attribut l'attribut hypotenuse se calculera automatiquement.\n",
    "\n",
    "Exemple:"
   ]
  },
  {
   "cell_type": "code",
   "execution_count": null,
   "metadata": {},
   "outputs": [],
   "source": [
    ">>> mon_triangle = TriangleRect(3,4)\n",
    ">>> mon_triangle.cote1\n",
    "3\n",
    ">>> mon_triangle.cote2\n",
    "4\n",
    ">>> mon_triangle.hypotenuse\n",
    "5.0\n"
   ]
  },
  {
   "cell_type": "markdown",
   "metadata": {},
   "source": [
    "## Exercice 3\n",
    "1. Écrire une classe ```Chrono``` qui contiendra les attributs ```heures```, ```minutes``` et ```secondes```.\n",
    "2. Doter la classe d'une méthode ```affiche()``` qui fera affichera le temps ```t```.\n",
    "3. Doter la classe d'une méthode ```avance(s)``` qui fera avancer le temps ```t``` de ```s``` secondes.\n",
    "\n",
    "Exemple:"
   ]
  },
  {
   "cell_type": "code",
   "execution_count": null,
   "metadata": {},
   "outputs": [],
   "source": [
    ">>> t = Chrono(17,25,38)\n",
    ">>> t.heures\n",
    "17\n",
    ">>> t.minutes\n",
    "25\n",
    ">>> t.secondes\n",
    "38\n",
    ">>> t.affiche()\n",
    "'Il est 17 heures, 25 minutes et 38 secondes'\n",
    ">>> t.avance(27)\n",
    ">>> t.affiche()\n",
    "'Il est 17 heures, 26 minutes et 5 secondes'\n"
   ]
  },
  {
   "cell_type": "markdown",
   "metadata": {},
   "source": [
    "## Exercice 4\n",
    "Écrire une classe Player qui :\n",
    "\n",
    "- ne prendra aucun argument lors de son instanciation.\n",
    "- affectera à chaque objet créé un attribut `energie` valant 3 par défaut.\n",
    "- affectera à chaque objet créé un attribut `alive` valant `True` par défaut.\n",
    "- fournira à chaque objet une méthode `blessure()` qui diminue l'attribut `energie` de 1.\n",
    "- fournira à chaque objet une méthode `soin()` qui augmente l'attribut `energie` de 1.\n",
    "- si l'attribut `energie` passe à 0, l'attribut `alive` doit passer à `False` et ne doit plus pouvoir évoluer.\n",
    "\n",
    "Exemple:"
   ]
  },
  {
   "cell_type": "code",
   "execution_count": null,
   "metadata": {},
   "outputs": [],
   "source": [
    ">>> mario = Player()\n",
    ">>> mario.energie\n",
    "3\n",
    ">>> mario.soin()\n",
    ">>> mario.energie\n",
    "4\n",
    ">>> mario.blessure()\n",
    ">>> mario.blessure()\n",
    ">>> mario.blessure()\n",
    ">>> mario.alive\n",
    "True\n",
    ">>> mario.blessure()\n",
    ">>> mario.alive\n",
    "False\n",
    ">>> mario.soin()\n",
    ">>> mario.alive\n",
    "False\n",
    ">>> mario.energie\n",
    "0\n"
   ]
  },
  {
   "cell_type": "markdown",
   "metadata": {},
   "source": [
    "## Exercice 5\n",
    "Créer une classe CompteBancaire dont la méthode constructeur recevra en paramètres :\n",
    "\n",
    "- un attribut `titulaire` stockant le nom du propriétaire.\n",
    "- un attribut `solde` contenant le solde disponible sur le compte.\n",
    "\n",
    "Cette classe contiendra deux méthodes `retrait()` et `depot()` qui permettront de retirer ou de déposer de l'argent sur le compte.\n",
    "\n",
    "Exemple:"
   ]
  },
  {
   "cell_type": "code",
   "execution_count": null,
   "metadata": {},
   "outputs": [],
   "source": [
    ">>> compteGL = CompteBancaire(\"G.Lassus\", 1000)\n",
    ">>> compteGL.retrait(50)\n",
    "Vous avez retiré 50 euros\n",
    "Solde actuel du compte : 950 euros\n",
    ">>> compteGL.retrait(40000)\n",
    "Retrait impossible\n",
    ">>> compteGL.depot(10000000)\n",
    "Vous avez déposé 10000000 euros\n",
    "Solde actuel du compte : 10000950 euros\n"
   ]
  },
  {
   "cell_type": "markdown",
   "metadata": {},
   "source": [
    "## Exercice 6\n",
    "Cet exercice est l'exercice 5.2 de la BNS (version 2022).\n",
    "\n",
    "On dispose d’un programme permettant de créer un objet de type `PaquetDeCarte`, selon les éléments indiqués dans le code ci-dessous. Compléter ce code aux endroits indiqués par `#A compléter`, puis ajouter des assertions dans l’initialiseur de `Carte`, ainsi que dans la méthode `getCarteAt()`.\n",
    "\n",
    "\n"
   ]
  },
  {
   "cell_type": "code",
   "execution_count": null,
   "metadata": {},
   "outputs": [],
   "source": [
    "class Carte:\n",
    "    \"\"\"Initialise Couleur (entre 1 a 4), et Valeur (entre 1 a 13)\"\"\"\n",
    "    def __init__(self, c, v):\n",
    "        self.Couleur = c\n",
    "        self.Valeur = v\n",
    "\n",
    "    \"\"\"Renvoie le nom de la Carte As, 2, ... 10, \n",
    "       Valet, Dame, Roi\"\"\"\n",
    "    def getNom(self):\n",
    "        if ( self.Valeur > 1 and self.Valeur < 11):\n",
    "            return str( self.Valeur)\n",
    "        elif self.Valeur == 11:\n",
    "            return \"Valet\"\n",
    "        elif self.Valeur == 12:\n",
    "            return \"Dame\"\n",
    "        elif self.Valeur == 13:\n",
    "            return \"Roi\"\n",
    "        else:\n",
    "            return \"As\"\n",
    "\n",
    "    \"\"\"Renvoie la couleur de la Carte (parmi pique, coeur, carreau, trefle\"\"\"\n",
    "    def getCouleur(self):\n",
    "        return ['pique', 'coeur', 'carreau', 'trefle' ][self.Couleur - 1]\n",
    "\n",
    "class PaquetDeCarte:\n",
    "    def __init__(self):\n",
    "        self.contenu = []\n",
    "\n",
    "    \"\"\"Remplit le paquet de cartes\"\"\"\n",
    "    def remplir(self):\n",
    "        ??? = [ ??? for couleur in range(1, ???) for valeur in range( 1, ???)]\n",
    "\n",
    "    \"\"\"Renvoie la Carte qui se trouve a  la position donnee\"\"\"\n",
    "    def getCarteAt(self, pos):\n",
    "        if 0 <= pos < ??? :\n",
    "            return ???\n"
   ]
  },
  {
   "cell_type": "markdown",
   "metadata": {},
   "source": [
    "Exemple:"
   ]
  },
  {
   "cell_type": "code",
   "execution_count": null,
   "metadata": {},
   "outputs": [],
   "source": [
    ">>> unPaquet = PaquetDeCarte()\n",
    ">>> unPaquet.remplir()\n",
    ">>> uneCarte = unPaquet.getCarteAt(20)\n",
    ">>> print(uneCarte.getNom() + \" de \" + uneCarte.getCouleur())\n",
    "8 de coeur\n"
   ]
  }
 ],
 "metadata": {
  "kernelspec": {
   "display_name": "Python 3 (ipykernel)",
   "language": "python",
   "name": "python3"
  },
  "language_info": {
   "codemirror_mode": {
    "name": "ipython",
    "version": 3
   },
   "file_extension": ".py",
   "mimetype": "text/x-python",
   "name": "python",
   "nbconvert_exporter": "python",
   "pygments_lexer": "ipython3",
   "version": "3.9.13"
  }
 },
 "nbformat": 4,
 "nbformat_minor": 4
}
